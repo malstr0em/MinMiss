{
 "cells": [
  {
   "cell_type": "code",
   "execution_count": 1,
   "metadata": {
    "scrolled": true
   },
   "outputs": [],
   "source": [
    "import sys\n",
    "import math\n",
    "import random\n",
    "import itertools\n",
    "import numpy as np\n",
    "import matplotlib.pyplot as plt\n",
    "from gurobi import *\n",
    "import os"
   ]
  },
  {
   "cell_type": "code",
   "execution_count": 2,
   "metadata": {},
   "outputs": [],
   "source": [
    "def read_sequence(file_path):\n",
    "    '''\n",
    "    ﻿Reads a *.seq-file and returns a list corresponding to the sequence in the file\n",
    "    :param file_path: a string containing the relative path to the *.seq-file\n",
    "    :return: sequence: ﻿a list containing the sequence of the *.seq file\n",
    "    '''\n",
    "\n",
    "    sequence = list()\n",
    "    dir_name = os.path.dirname(\"/home/blueuser/Documents/Int.Prog./\")  #hardcoded (__File__)\n",
    "    file_path = os.path.join(dir_name, file_path)\n",
    "\n",
    "    try:\n",
    "        with open(file_path, \"r\") as f:\n",
    "            print(\"Reading Sequence...\")\n",
    "            for line in f:\n",
    "                sequence.append(int(line))\n",
    "\n",
    "        print(\"Sequence read\\nNumber of Elements: {1} \\nLength: {0}\".format(len(sequence), len(set(sequence))))\n",
    "        return sequence\n",
    "\n",
    "    except IOError as e:\n",
    "        print(os.strerror(e.errno))\n",
    "        exit()\n",
    "\n",
    "    return sequence"
   ]
  },
  {
   "cell_type": "code",
   "execution_count": 3,
   "metadata": {},
   "outputs": [
    {
     "name": "stdout",
     "output_type": "stream",
     "text": [
      "Reading Sequence...\n",
      "Sequence read\n",
      "Number of Elements: 11520 \n",
      "Length: 644456\n"
     ]
    }
   ],
   "source": [
    "#reading the sequenc\n",
    "\n",
    "file_path = os.path.relpath(\"/home/blueuser/Documents/Int.Prog./Sequences/11520_644456.seq\")\n",
    "\n",
    "sequence = read_sequence(file_path)"
   ]
  },
  {
   "cell_type": "code",
   "execution_count": 8,
   "metadata": {},
   "outputs": [],
   "source": [
    "\"\"\"\n",
    "def dram_optimization(sequence, number_of_banks, number_of_rows, number_of_columns):\n",
    "’’’\n",
    "Calculates a feasible allocation for sequence\n",
    "\n",
    "param sequence : list\n",
    "param number_of_banks   : an integer specifying the number of banks\n",
    "param number_of_rows    : an integer specifying the number of rows\n",
    "param number_of_columns : an integer specifying the number of columns\n",
    "\n",
    "\n",
    "\n",
    "return:\n",
    "\n",
    "hits   : an integer specifying the number of row hits with respect to the returned allocation\n",
    "misses : an integer specifying the number of row misses with respect to the returned allocation\n",
    "banks  : a dictionary specifying to which bank an element is allocated to;\n",
    "        the keys are the elements of the sequence and the values are the integers\n",
    "        from 1 up to number_of_banks\n",
    "rows   : a dictionary specifying to which row an element is allocated to;\n",
    "        the keys are the elements of the sequence and the values are the integers\n",
    "        from 1 up to number_of_rows\n",
    "’’’\n",
    "\"\"\"\n",
    "def dram_optimization(sequence, number_of_banks, number_of_rows, number_of_columns):\n",
    "    \n",
    "    m = Model(\"shittyIP\")\n",
    "    number_of_elements = len(np.unique(sequence)) #not ugly\n",
    "    print(number_of_elements)\n",
    "    \n",
    "    \n",
    "    \n",
    "    #create variables\n",
    "    #vars = tupledict()\n",
    "    #for i in range(number_of_elements):\n",
    "    #    for b in range(number_of_banks):\n",
    "    #        for r in range(number_of_rows):\n",
    "    #            \n",
    "    #           vars[i,b,r] = m.addVar(name=str(i)+'i '+str(b)+'b '+str(r)+'r', vtype=GRB.BINARY)\n",
    "    vars = m.addVars(number_of_elements,number_of_rows,vtype=GRB.BINARY)\n",
    "    \n",
    "    m.update()\n",
    "    \n",
    "    print(\"done with vars\")\n",
    "    \n",
    "    #Constrains\n",
    "    for b in range(number_of_banks):\n",
    "        for r in range(number_of_rows):\n",
    "            m.addConstr(sum(vars[i,r] for i in range(number_of_elements)) <= number_of_columns)\n",
    "                \n",
    "    for i in range(number_of_elements):\n",
    "        m.addConstr(sum(vars[i,r] for r in range(number_of_rows) for b in range(number_of_banks)) == 1)\n",
    "\n",
    "    \n",
    "    \n",
    "    #model.setObjective(x + y, GRB.MAXIMIZE)    \n",
    "    m.optimize()\n",
    "    \n",
    "    if m.SolCount == 0:\n",
    "        print('No solution found, optimization status = %d' % m.Status)\n",
    "    else:\n",
    "        print('Solution found, objective = %g' % m.ObjVal)\n",
    "        #print(m.getVars())\n",
    "        #for v in m.getVars():\n",
    "        #    if v.X != 0.0:\n",
    "        #        print('%s %g' % (v.VarName, v.X))\n",
    "\n",
    "    \n",
    "    banks = dict()\n",
    "    rows = dict()\n",
    "    hits = 0\n",
    "    misses = len(sequence) - hits\n",
    "    \n",
    "\n",
    "    \n",
    "    return hits,misses,banks,rows"
   ]
  },
  {
   "cell_type": "code",
   "execution_count": 9,
   "metadata": {},
   "outputs": [
    {
     "name": "stdout",
     "output_type": "stream",
     "text": [
      "11520\n",
      "done with vars\n",
      "Optimize a model with 11670 rows, 1728000 columns and 3456000 nonzeros\n",
      "Variable types: 0 continuous, 1728000 integer (1728000 binary)\n",
      "Coefficient statistics:\n",
      "  Matrix range     [1e+00, 1e+00]\n",
      "  Objective range  [0e+00, 0e+00]\n",
      "  Bounds range     [1e+00, 1e+00]\n",
      "  RHS range        [1e+00, 2e+02]\n",
      "Found heuristic solution: objective 0.0000000\n",
      "\n",
      "Explored 0 nodes (0 simplex iterations) in 0.58 seconds\n",
      "Thread count was 1 (of 4 available processors)\n",
      "\n",
      "Solution count 1: 0 \n",
      "\n",
      "Optimal solution found (tolerance 1.00e-04)\n",
      "Best objective 0.000000000000e+00, best bound 0.000000000000e+00, gap 0.0000%\n",
      "Solution found, objective = 0\n"
     ]
    },
    {
     "name": "stderr",
     "output_type": "stream",
     "text": [
      "IOPub data rate exceeded.\n",
      "The notebook server will temporarily stop sending output\n",
      "to the client in order to avoid crashing it.\n",
      "To change this limit, set the config variable\n",
      "`--NotebookApp.iopub_data_rate_limit`.\n",
      "\n",
      "Current values:\n",
      "NotebookApp.iopub_data_rate_limit=1000000.0 (bytes/sec)\n",
      "NotebookApp.rate_limit_window=3.0 (secs)\n",
      "\n"
     ]
    },
    {
     "data": {
      "text/plain": [
       "(0, 644456, {}, {})"
      ]
     },
     "execution_count": 9,
     "metadata": {},
     "output_type": "execute_result"
    }
   ],
   "source": [
    "#356400\n",
    "number_of_banks = 1\n",
    "number_of_rows = 150\n",
    "number_of_columns = 150\n",
    "dram_optimization(sequence, number_of_banks, number_of_rows, number_of_columns)"
   ]
  }
 ],
 "metadata": {
  "kernelspec": {
   "display_name": "Python 3",
   "language": "python",
   "name": "python3"
  },
  "language_info": {
   "codemirror_mode": {
    "name": "ipython",
    "version": 3
   },
   "file_extension": ".py",
   "mimetype": "text/x-python",
   "name": "python",
   "nbconvert_exporter": "python",
   "pygments_lexer": "ipython3",
   "version": "3.7.1"
  }
 },
 "nbformat": 4,
 "nbformat_minor": 2
}
