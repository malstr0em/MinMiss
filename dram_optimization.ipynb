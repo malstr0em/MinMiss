{
 "cells": [
  {
   "cell_type": "code",
   "execution_count": 1,
   "metadata": {
    "scrolled": true
   },
   "outputs": [],
   "source": [
    "import sys\n",
    "import math\n",
    "import random\n",
    "import itertools\n",
    "import numpy as np\n",
    "import matplotlib.pyplot as plt\n",
    "from gurobi import *\n",
    "import os"
   ]
  },
  {
   "cell_type": "code",
   "execution_count": 2,
   "metadata": {},
   "outputs": [],
   "source": [
    "def read_sequence(file_path):\n",
    "    '''\n",
    "    ﻿Reads a *.seq-file and returns a list corresponding to the sequence in the file\n",
    "    :param file_path: a string containing the relative path to the *.seq-file\n",
    "    :return: sequence: ﻿a list containing the sequence of the *.seq file\n",
    "    '''\n",
    "\n",
    "    sequence = list()\n",
    "    dir_name = os.path.dirname(\"/home/blueuser/Documents/Int.Prog./\")  #hardcoded (__File__)\n",
    "    file_path = os.path.join(dir_name, file_path)\n",
    "\n",
    "    try:\n",
    "        with open(file_path, \"r\") as f:\n",
    "            print(\"Reading Sequence...\")\n",
    "            for line in f:\n",
    "                sequence.append(int(line))\n",
    "\n",
    "        print(\"Sequence read\\nNumber of Elements: {1} \\nLength: {0}\".format(len(sequence), len(set(sequence))))\n",
    "        return sequence\n",
    "\n",
    "    except IOError as e:\n",
    "        print(os.strerror(e.errno))\n",
    "        exit()\n",
    "\n",
    "    return sequence"
   ]
  },
  {
   "cell_type": "code",
   "execution_count": 16,
   "metadata": {},
   "outputs": [
    {
     "name": "stdout",
     "output_type": "stream",
     "text": [
      "Reading Sequence...\n",
      "Sequence read\n",
      "Number of Elements: 356400 \n",
      "Length: 1198800\n"
     ]
    }
   ],
   "source": [
    "#reading the sequenc\n",
    "\n",
    "file_path = os.path.relpath(\"/home/blueuser/Documents/Int.Prog./Sequences/356400_1198800.seq\")\n",
    "\n",
    "sequence = read_sequence(file_path)"
   ]
  },
  {
   "cell_type": "code",
   "execution_count": 13,
   "metadata": {},
   "outputs": [],
   "source": [
    "\"\"\"\n",
    "def dram_optimization(sequence, number_of_banks, number_of_rows, number_of_columns):\n",
    "’’’\n",
    "Calculates a feasible allocation for sequence\n",
    "\n",
    "param sequence : list\n",
    "param number_of_banks   : an integer specifying the number of banks\n",
    "param number_of_rows    : an integer specifying the number of rows\n",
    "param number_of_columns : an integer specifying the number of columns\n",
    "\n",
    "\n",
    "\n",
    "return:\n",
    "\n",
    "hits   : an integer specifying the number of row hits with respect to the returned allocation\n",
    "misses : an integer specifying the number of row misses with respect to the returned allocation\n",
    "banks  : a dictionary specifying to which bank an element is allocated to;\n",
    "        the keys are the elements of the sequence and the values are the integers\n",
    "        from 1 up to number_of_banks\n",
    "rows   : a dictionary specifying to which row an element is allocated to;\n",
    "        the keys are the elements of the sequence and the values are the integers\n",
    "        from 1 up to number_of_rows\n",
    "’’’\n",
    "\"\"\"\n",
    "def dram_optimization(sequence, number_of_banks, number_of_rows, number_of_columns):\n",
    "    \n",
    "    m = Model(\"shittyIP\")\n",
    "    number_of_elements = len(np.unique(sequence)) #not ugly\n",
    "    \n",
    "    \n",
    "    \n",
    "    #create variables\n",
    "    vars = tupledict()\n",
    "    for i in range(number_of_elements):\n",
    "        for b in range(number_of_banks):\n",
    "            for r in range(number_of_rows):\n",
    "                \n",
    "                vars[i,b,r] = m.addVar(name=str(i)+'i '+str(b)+'b '+str(r)+'r', vtype=GRB.BINARY)\n",
    "    m.update()\n",
    "    \n",
    "    #Constrains\n",
    "    for b in range(number_of_banks):\n",
    "        for r in range(number_of_rows):\n",
    "            m.addConstr(sum(vars[i,b,r] for i in range(number_of_elements)) <= number_of_columns)\n",
    "                \n",
    "    for i in range(number_of_elements):\n",
    "        m.addConstr(sum(vars[i,b,r] for r in range(number_of_rows) for b in range(number_of_banks)) == 1)\n",
    "\n",
    "    \n",
    "    \n",
    "    #model.setObjective(x + y, GRB.MAXIMIZE)    \n",
    "    m.optimize()\n",
    "    \n",
    "    if m.SolCount == 0:\n",
    "        print('No solution found, optimization status = %d' % m.Status)\n",
    "    else:\n",
    "        print('Solution found, objective = %g' % m.ObjVal)\n",
    "        print(m.getVars())\n",
    "        #for v in m.getVars():\n",
    "        #    if v.X != 0.0:\n",
    "        #        print('%s %g' % (v.VarName, v.X))\n",
    "\n",
    "    \n",
    "    banks = dict()\n",
    "    rows = dict()\n",
    "    hits = 0\n",
    "    misses = len(sequence) - hits\n",
    "    \n",
    "\n",
    "    \n",
    "    return hits,misses,banks,rows"
   ]
  },
  {
   "cell_type": "code",
   "execution_count": null,
   "metadata": {},
   "outputs": [],
   "source": [
    "#356400\n",
    "number_of_banks = 1\n",
    "number_of_rows = 2\n",
    "number_of_columns = 5\n",
    "dram_optimization(sequence, number_of_banks, number_of_rows, number_of_columns)"
   ]
  }
 ],
 "metadata": {
  "kernelspec": {
   "display_name": "Python 3",
   "language": "python",
   "name": "python3"
  },
  "language_info": {
   "codemirror_mode": {
    "name": "ipython",
    "version": 3
   },
   "file_extension": ".py",
   "mimetype": "text/x-python",
   "name": "python",
   "nbconvert_exporter": "python",
   "pygments_lexer": "ipython3",
   "version": "3.7.1"
  }
 },
 "nbformat": 4,
 "nbformat_minor": 2
}
